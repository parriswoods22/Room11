{
 "cells": [
  {
   "cell_type": "code",
   "execution_count": null,
   "id": "893c24dc",
   "metadata": {},
   "outputs": [],
   "source": [
    "import pandas as pd\n",
    "import requests\n",
    "import json\n",
    "from pprint import pprint\n",
    "# Retrieve Google API key from config.py\n",
    "from config import gkey"
   ]
  },
  {
   "cell_type": "code",
   "execution_count": null,
   "id": "01404c53",
   "metadata": {},
   "outputs": [],
   "source": [
    "data_one_path = 'Resources/airbnbmark1.csv'\n",
    "data_two_path = 'Resources/AB_NYC_2019.csv'\n",
    "data_one = pd.read_csv(data_one_path)\n",
    "data_two = pd.read_csv(data_two_path)"
   ]
  },
  {
   "cell_type": "code",
   "execution_count": null,
   "id": "cea43903",
   "metadata": {},
   "outputs": [],
   "source": [
    "data_one.head(1)"
   ]
  },
  {
   "cell_type": "code",
   "execution_count": null,
   "id": "fce1ce44",
   "metadata": {},
   "outputs": [],
   "source": [
    "ident = data_one['id']\n",
    "name = data_one['name']\n",
    "rpm = data_one['reviews_per_month']\n",
    "peoples = data_one['accommodates']\n",
    "cleaning = data_one['cleaning_fee']\n",
    "avg_rating = data_one['review_scores_rating']\n",
    "accuracy = data_one['review_scores_rating']\n",
    "cleanliness = data_one['review_scores_rating']\n",
    "checkin = data_one['review_scores_checkin']\n",
    "comm = data_one['review_scores_communication']\n",
    "location = data_one['review_scores_location']\n",
    "value = data_one['review_scores_value']\n",
    "\n",
    "basic_info_df = pd.DataFrame({'ID': ident,\n",
    "                             'Room Name': name,\n",
    "                              'Accomodates': peoples,\n",
    "                              'Cleaning Fee': cleaning,\n",
    "                             'Reviews Per Month': rpm,\n",
    "                             'Rating Score': avg_rating,\n",
    "                             'Accuracy Score': accuracy,\n",
    "                             'Cleanliness': cleanliness,\n",
    "                             'Checkin Score': checkin,\n",
    "                             'Communication Score': comm,\n",
    "                             'Location Score': location,\n",
    "                             'Value Score': value})\n",
    "basic_info_df.head(2)"
   ]
  },
  {
   "cell_type": "code",
   "execution_count": null,
   "id": "ff85474e",
   "metadata": {},
   "outputs": [],
   "source": [
    "ident2 = data_two['id']\n",
    "host_id = data_two['host_id']\n",
    "borough = data_two['neighbourhood_group']\n",
    "neighborhood = data_two['neighbourhood']\n",
    "lat = data_two['latitude']\n",
    "lng = data_two['longitude']\n",
    "room_type = data_two['room_type']\n",
    "price = data_two['price']\n",
    "review_num = data_two['number_of_reviews']\n",
    "avail = data_two['availability_365']"
   ]
  },
  {
   "cell_type": "code",
   "execution_count": null,
   "id": "95ba28c3",
   "metadata": {},
   "outputs": [],
   "source": [
    "basic_two_df = pd.DataFrame({'ID': ident2,\n",
    "                            'Host ID': host_id,\n",
    "                            'Borough': borough,\n",
    "                            'Neighbourhood': neighborhood,\n",
    "                            'Latitude': lat,\n",
    "                            'Longitude': lng,\n",
    "                            'Type Room': room_type,\n",
    "                            'Price (per night)': price,\n",
    "                            'Number of Reviews': review_num,\n",
    "                            'Availability per 365': avail})\n",
    "basic_two_df"
   ]
  },
  {
   "cell_type": "code",
   "execution_count": null,
   "id": "35233809",
   "metadata": {},
   "outputs": [],
   "source": [
    "combined_data = pd.merge(basic_info_df, basic_two_df, on = 'ID')\n",
    "cleaned_data = combined_data.dropna(how = 'any')\n",
    "cleaned_data"
   ]
  },
  {
   "cell_type": "code",
   "execution_count": null,
   "id": "fbb3137f",
   "metadata": {},
   "outputs": [],
   "source": [
    "# cleaned_data.to_csv('Resources/cleaned_data.csv')"
   ]
  },
  {
   "cell_type": "code",
   "execution_count": null,
   "id": "bd3a7248",
   "metadata": {},
   "outputs": [],
   "source": [
    "#Find location for Manhattan, Brooklyn, and Bronx\n",
    "boroughs_df = pd.read_csv(\"Resources/Boroughs.csv\")\n",
    "boroughs_df.head()\n"
   ]
  },
  {
   "cell_type": "code",
   "execution_count": null,
   "id": "58c5d689",
   "metadata": {},
   "outputs": [],
   "source": [
    "boroughs_df[\"borough lng\"]= \"\"\n",
    "boroughs_df[\"borough lat\"]= \"\"\n",
    "boroughs_df[\"attraction name\"]= \"\"\n",
    "boroughs_df[\"attraction lng\"]= \"\"\n",
    "boroughs_df[\"attraction lat\"]= \"\"\n",
    "boroughs_df"
   ]
  },
  {
   "cell_type": "code",
   "execution_count": null,
   "id": "e721e79e",
   "metadata": {},
   "outputs": [],
   "source": [
    "params = {\"key\": gkey}\n",
    "\n",
    "for index, row in boroughs_df.iterrows():\n",
    "    base_url = \"https://maps.googleapis.com/maps/api/geocode/json\"\n",
    "\n",
    "    city = row['Boroughs']\n",
    "    state = 'New York'\n",
    "\n",
    "    # update address key value\n",
    "    params['address'] = f\"{city},{state}\"\n",
    "\n",
    "    # make request\n",
    "    boroughs_lat_lng = requests.get(base_url, params=params)\n",
    "    \n",
    "    # print the cities_lat_lng url, avoid doing for public github repos in order to avoid exposing key\n",
    "#     print(cities_lat_lng.url)\n",
    "    \n",
    "#     # convert to json\n",
    "    boroughs_lat_lng = boroughs_lat_lng.json()\n",
    "\n",
    "    boroughs_df.loc[index, \"borough lat\"] = boroughs_lat_lng[\"results\"][0][\"geometry\"][\"location\"][\"lat\"]\n",
    "    boroughs_df.loc[index, \"borough lng\"] = boroughs_lat_lng[\"results\"][0][\"geometry\"][\"location\"][\"lng\"]\n",
    "\n",
    "# # Visualize to confirm lat lng appear\n",
    "boroughs_df.head()"
   ]
  },
  {
   "cell_type": "code",
   "execution_count": null,
   "id": "ae6cc10e",
   "metadata": {},
   "outputs": [],
   "source": [
    "#Get locations for 1 attraction in each borough\n",
    "params = {\n",
    "    \"radius\": 10000,\n",
    "    \"types\": \"tourist_attraction\",\n",
    "    \"key\": gkey\n",
    "}\n",
    "\n",
    "for index, row in boroughs_df.iterrows():\n",
    "    # get lat, lng from df\n",
    "    lat = row[\"borough lat\"]\n",
    "    lng = row[\"borough lng\"]\n",
    "\n",
    "    # change location each iteration while leaving original params in place\n",
    "    params[\"location\"] = f\"{lat},{lng}\"\n",
    "\n",
    "    # Use the search term: \"International Airport\" and our lat/lng\n",
    "    base_url = \"https://maps.googleapis.com/maps/api/place/nearbysearch/json\"\n",
    "\n",
    "    # make request and print url\n",
    "    attraction = requests.get(base_url, params=params)\n",
    "    \n",
    "#     print the name_address url, avoid doing for public github repos in order to avoid exposing key\n",
    "#     print(attraction.url)\n",
    "\n",
    "    # convert to json\n",
    "    attraction = attraction.json()\n",
    "    # print(json.dumps(name_address, indent=4, sort_keys=True))\n",
    "\n",
    "    # Since some data may be missing we incorporate a try-except to skip any that are missing a data point.\n",
    "    try:\n",
    "        boroughs_df.loc[index, \"attraction name\"] = attraction[\"results\"][0][\"name\"]\n",
    "        boroughs_df.loc[index, \"attraction lng\"] = attraction[\"results\"][0][\"geometry\"][\"location\"][\"lng\"]\n",
    "        boroughs_df.loc[index, \"attraction lat\"] = attraction[\"results\"][0][\"geometry\"][\"location\"][\"lat\"]\n",
    "    except (KeyError, IndexError):\n",
    "        print(\"Missing field/result... skipping.\")\n",
    "        \n",
    "boroughs_df"
   ]
  },
  {
   "cell_type": "code",
   "execution_count": null,
   "id": "5597eba9",
   "metadata": {},
   "outputs": [],
   "source": []
  }
 ],
 "metadata": {
  "kernelspec": {
   "display_name": "Python 3",
   "language": "python",
   "name": "python3"
  },
  "language_info": {
   "codemirror_mode": {
    "name": "ipython",
    "version": 3
   },
   "file_extension": ".py",
   "mimetype": "text/x-python",
   "name": "python",
   "nbconvert_exporter": "python",
   "pygments_lexer": "ipython3",
   "version": "3.8.8"
  }
 },
 "nbformat": 4,
 "nbformat_minor": 5
}
