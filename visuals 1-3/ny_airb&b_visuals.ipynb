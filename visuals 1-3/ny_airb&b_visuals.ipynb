{
 "cells": [
  {
   "cell_type": "code",
   "execution_count": 45,
   "metadata": {},
   "outputs": [],
   "source": [
    "# Dependencies\n",
    "import matplotlib.pyplot as plt\n",
    "import pandas as pd\n",
    "import scipy.stats as st\n",
    "import numpy as np\n",
    "import requests\n",
    "import gmaps\n",
    "import os\n",
    "\n",
    "from config import gkey"
   ]
  },
  {
   "cell_type": "code",
   "execution_count": 30,
   "metadata": {},
   "outputs": [
    {
     "data": {
      "text/html": [
       "<div>\n",
       "<style scoped>\n",
       "    .dataframe tbody tr th:only-of-type {\n",
       "        vertical-align: middle;\n",
       "    }\n",
       "\n",
       "    .dataframe tbody tr th {\n",
       "        vertical-align: top;\n",
       "    }\n",
       "\n",
       "    .dataframe thead th {\n",
       "        text-align: right;\n",
       "    }\n",
       "</style>\n",
       "<table border=\"1\" class=\"dataframe\">\n",
       "  <thead>\n",
       "    <tr style=\"text-align: right;\">\n",
       "      <th></th>\n",
       "      <th>Unnamed: 0</th>\n",
       "      <th>ID</th>\n",
       "      <th>Room Name</th>\n",
       "      <th>Accomodates</th>\n",
       "      <th>Cleaning Fee</th>\n",
       "      <th>Reviews Per Month</th>\n",
       "      <th>Rating Score</th>\n",
       "      <th>Accuracy Score</th>\n",
       "      <th>Cleanliness</th>\n",
       "      <th>Checkin Score</th>\n",
       "      <th>...</th>\n",
       "      <th>Value Score</th>\n",
       "      <th>Host ID</th>\n",
       "      <th>Borough</th>\n",
       "      <th>Neighbourhood</th>\n",
       "      <th>Latitude</th>\n",
       "      <th>Longitude</th>\n",
       "      <th>Type Room</th>\n",
       "      <th>Price (per night)</th>\n",
       "      <th>Number of Reviews</th>\n",
       "      <th>Availability per 365</th>\n",
       "    </tr>\n",
       "  </thead>\n",
       "  <tbody>\n",
       "    <tr>\n",
       "      <th>0</th>\n",
       "      <td>0</td>\n",
       "      <td>2595</td>\n",
       "      <td>Skylit Midtown Castle</td>\n",
       "      <td>1</td>\n",
       "      <td>$95.00</td>\n",
       "      <td>0.39</td>\n",
       "      <td>94.0</td>\n",
       "      <td>94.0</td>\n",
       "      <td>94.0</td>\n",
       "      <td>10.0</td>\n",
       "      <td>...</td>\n",
       "      <td>9.0</td>\n",
       "      <td>2845</td>\n",
       "      <td>Manhattan</td>\n",
       "      <td>Midtown</td>\n",
       "      <td>40.75362</td>\n",
       "      <td>-73.98377</td>\n",
       "      <td>Entire home/apt</td>\n",
       "      <td>225</td>\n",
       "      <td>45</td>\n",
       "      <td>355</td>\n",
       "    </tr>\n",
       "    <tr>\n",
       "      <th>1</th>\n",
       "      <td>1</td>\n",
       "      <td>2595</td>\n",
       "      <td>Skylit Midtown Castle</td>\n",
       "      <td>1</td>\n",
       "      <td>$95.00</td>\n",
       "      <td>0.39</td>\n",
       "      <td>94.0</td>\n",
       "      <td>94.0</td>\n",
       "      <td>94.0</td>\n",
       "      <td>10.0</td>\n",
       "      <td>...</td>\n",
       "      <td>9.0</td>\n",
       "      <td>2845</td>\n",
       "      <td>Manhattan</td>\n",
       "      <td>Midtown</td>\n",
       "      <td>40.75362</td>\n",
       "      <td>-73.98377</td>\n",
       "      <td>Entire home/apt</td>\n",
       "      <td>225</td>\n",
       "      <td>45</td>\n",
       "      <td>355</td>\n",
       "    </tr>\n",
       "    <tr>\n",
       "      <th>2</th>\n",
       "      <td>2</td>\n",
       "      <td>2595</td>\n",
       "      <td>Skylit Midtown Castle</td>\n",
       "      <td>2</td>\n",
       "      <td>$95.00</td>\n",
       "      <td>0.38</td>\n",
       "      <td>94.0</td>\n",
       "      <td>94.0</td>\n",
       "      <td>94.0</td>\n",
       "      <td>10.0</td>\n",
       "      <td>...</td>\n",
       "      <td>9.0</td>\n",
       "      <td>2845</td>\n",
       "      <td>Manhattan</td>\n",
       "      <td>Midtown</td>\n",
       "      <td>40.75362</td>\n",
       "      <td>-73.98377</td>\n",
       "      <td>Entire home/apt</td>\n",
       "      <td>225</td>\n",
       "      <td>45</td>\n",
       "      <td>355</td>\n",
       "    </tr>\n",
       "    <tr>\n",
       "      <th>3</th>\n",
       "      <td>6</td>\n",
       "      <td>5099</td>\n",
       "      <td>Large Cozy 1 BR Apartment In Midtown East</td>\n",
       "      <td>2</td>\n",
       "      <td>$125.00</td>\n",
       "      <td>0.59</td>\n",
       "      <td>90.0</td>\n",
       "      <td>90.0</td>\n",
       "      <td>90.0</td>\n",
       "      <td>10.0</td>\n",
       "      <td>...</td>\n",
       "      <td>9.0</td>\n",
       "      <td>7322</td>\n",
       "      <td>Manhattan</td>\n",
       "      <td>Murray Hill</td>\n",
       "      <td>40.74767</td>\n",
       "      <td>-73.97500</td>\n",
       "      <td>Entire home/apt</td>\n",
       "      <td>200</td>\n",
       "      <td>74</td>\n",
       "      <td>129</td>\n",
       "    </tr>\n",
       "    <tr>\n",
       "      <th>4</th>\n",
       "      <td>7</td>\n",
       "      <td>5099</td>\n",
       "      <td>Large Cozy 1 BR Apartment In Midtown East</td>\n",
       "      <td>2</td>\n",
       "      <td>$125.00</td>\n",
       "      <td>0.60</td>\n",
       "      <td>90.0</td>\n",
       "      <td>90.0</td>\n",
       "      <td>90.0</td>\n",
       "      <td>10.0</td>\n",
       "      <td>...</td>\n",
       "      <td>9.0</td>\n",
       "      <td>7322</td>\n",
       "      <td>Manhattan</td>\n",
       "      <td>Murray Hill</td>\n",
       "      <td>40.74767</td>\n",
       "      <td>-73.97500</td>\n",
       "      <td>Entire home/apt</td>\n",
       "      <td>200</td>\n",
       "      <td>74</td>\n",
       "      <td>129</td>\n",
       "    </tr>\n",
       "  </tbody>\n",
       "</table>\n",
       "<p>5 rows × 22 columns</p>\n",
       "</div>"
      ],
      "text/plain": [
       "   Unnamed: 0    ID                                  Room Name  Accomodates  \\\n",
       "0           0  2595                      Skylit Midtown Castle            1   \n",
       "1           1  2595                      Skylit Midtown Castle            1   \n",
       "2           2  2595                      Skylit Midtown Castle            2   \n",
       "3           6  5099  Large Cozy 1 BR Apartment In Midtown East            2   \n",
       "4           7  5099  Large Cozy 1 BR Apartment In Midtown East            2   \n",
       "\n",
       "  Cleaning Fee  Reviews Per Month  Rating Score  Accuracy Score  Cleanliness  \\\n",
       "0      $95.00                0.39          94.0            94.0         94.0   \n",
       "1      $95.00                0.39          94.0            94.0         94.0   \n",
       "2      $95.00                0.38          94.0            94.0         94.0   \n",
       "3     $125.00                0.59          90.0            90.0         90.0   \n",
       "4     $125.00                0.60          90.0            90.0         90.0   \n",
       "\n",
       "   Checkin Score  ...  Value Score  Host ID    Borough  Neighbourhood  \\\n",
       "0           10.0  ...          9.0     2845  Manhattan        Midtown   \n",
       "1           10.0  ...          9.0     2845  Manhattan        Midtown   \n",
       "2           10.0  ...          9.0     2845  Manhattan        Midtown   \n",
       "3           10.0  ...          9.0     7322  Manhattan    Murray Hill   \n",
       "4           10.0  ...          9.0     7322  Manhattan    Murray Hill   \n",
       "\n",
       "   Latitude Longitude        Type Room  Price (per night) Number of Reviews  \\\n",
       "0  40.75362 -73.98377  Entire home/apt                225                45   \n",
       "1  40.75362 -73.98377  Entire home/apt                225                45   \n",
       "2  40.75362 -73.98377  Entire home/apt                225                45   \n",
       "3  40.74767 -73.97500  Entire home/apt                200                74   \n",
       "4  40.74767 -73.97500  Entire home/apt                200                74   \n",
       "\n",
       "   Availability per 365  \n",
       "0                   355  \n",
       "1                   355  \n",
       "2                   355  \n",
       "3                   129  \n",
       "4                   129  \n",
       "\n",
       "[5 rows x 22 columns]"
      ]
     },
     "execution_count": 30,
     "metadata": {},
     "output_type": "execute_result"
    }
   ],
   "source": [
    "csv_path = \"Resources/super_clean_data.csv\"\n",
    "\n",
    "ny_airbb_data_df = pd.read_csv(csv_path)\n",
    "\n",
    "ny_airbb_data_df.head()"
   ]
  },
  {
   "cell_type": "code",
   "execution_count": 31,
   "metadata": {},
   "outputs": [
    {
     "data": {
      "text/plain": [
       "Unnamed: 0                int64\n",
       "ID                        int64\n",
       "Room Name                object\n",
       "Accomodates               int64\n",
       "Cleaning Fee            float64\n",
       "Reviews Per Month       float64\n",
       "Rating Score            float64\n",
       "Accuracy Score          float64\n",
       "Cleanliness             float64\n",
       "Checkin Score           float64\n",
       "Communication Score     float64\n",
       "Location Score          float64\n",
       "Value Score             float64\n",
       "Host ID                   int64\n",
       "Borough                  object\n",
       "Neighbourhood            object\n",
       "Latitude                float64\n",
       "Longitude               float64\n",
       "Type Room                object\n",
       "Price (per night)         int64\n",
       "Number of Reviews         int64\n",
       "Availability per 365      int64\n",
       "dtype: object"
      ]
     },
     "execution_count": 31,
     "metadata": {},
     "output_type": "execute_result"
    }
   ],
   "source": [
    "ny_airbb_data_df['Cleaning Fee'] = ny_airbb_data_df['Cleaning Fee'].str.replace('$', '')\n",
    "ny_airbb_data_df['Cleaning Fee'] = ny_airbb_data_df['Cleaning Fee'].str.replace(',', '')\n",
    "  \n",
    "ny_airbb_data_df.astype({'Cleaning Fee': 'float'}).dtypes"
   ]
  },
  {
   "cell_type": "code",
   "execution_count": 32,
   "metadata": {},
   "outputs": [],
   "source": [
    "# ny_airbb_data_df['Total Price (per night)'] = ny_airbb_data_df['Cleaning Fee'] + ny_airbb_data_df['Price (per night)']\n",
    "\n",
    "total_prices = []\n",
    "\n",
    "\n",
    "# for row in ny_airbb_data_df.iterrows():\n",
    "for index, row in ny_airbb_data_df.iterrows():\n",
    "   \n",
    "    cleaning_fee = row['Cleaning Fee']\n",
    "\n",
    "    base_fee = row['Price (per night)']\n",
    "\n",
    "    total = int(base_fee) + float(cleaning_fee)\n",
    "\n",
    "    total_prices.append(total)\n",
    "\n",
    "\n",
    "    \n"
   ]
  },
  {
   "cell_type": "code",
   "execution_count": 33,
   "metadata": {},
   "outputs": [],
   "source": [
    "ny_airbb_data_df[\"Total Price (per night)\"] = total_prices"
   ]
  },
  {
   "cell_type": "code",
   "execution_count": 34,
   "metadata": {},
   "outputs": [
    {
     "name": "stdout",
     "output_type": "stream",
     "text": [
      "['Unnamed: 0' 'ID' 'Room Name' 'Accomodates' 'Cleaning Fee'\n",
      " 'Reviews Per Month' 'Rating Score' 'Accuracy Score' 'Cleanliness'\n",
      " 'Checkin Score' 'Communication Score' 'Location Score' 'Value Score'\n",
      " 'Host ID' 'Borough' 'Neighbourhood' 'Latitude' 'Longitude' 'Type Room'\n",
      " 'Price (per night)' 'Number of Reviews' 'Availability per 365'\n",
      " 'Total Price (per night)']\n"
     ]
    }
   ],
   "source": [
    "print(ny_airbb_data_df.columns.values)"
   ]
  },
  {
   "cell_type": "code",
   "execution_count": 35,
   "metadata": {},
   "outputs": [
    {
     "data": {
      "text/html": [
       "<div>\n",
       "<style scoped>\n",
       "    .dataframe tbody tr th:only-of-type {\n",
       "        vertical-align: middle;\n",
       "    }\n",
       "\n",
       "    .dataframe tbody tr th {\n",
       "        vertical-align: top;\n",
       "    }\n",
       "\n",
       "    .dataframe thead th {\n",
       "        text-align: right;\n",
       "    }\n",
       "</style>\n",
       "<table border=\"1\" class=\"dataframe\">\n",
       "  <thead>\n",
       "    <tr style=\"text-align: right;\">\n",
       "      <th></th>\n",
       "      <th>Host ID</th>\n",
       "      <th>Borough</th>\n",
       "      <th>Latitude</th>\n",
       "      <th>Longitude</th>\n",
       "      <th>Price (per night)</th>\n",
       "      <th>Cleaning Fee</th>\n",
       "      <th>Total Price (per night)</th>\n",
       "      <th>Rating Score</th>\n",
       "    </tr>\n",
       "  </thead>\n",
       "  <tbody>\n",
       "    <tr>\n",
       "      <th>0</th>\n",
       "      <td>2845</td>\n",
       "      <td>Manhattan</td>\n",
       "      <td>40.75362</td>\n",
       "      <td>-73.98377</td>\n",
       "      <td>225</td>\n",
       "      <td>95.00</td>\n",
       "      <td>320.0</td>\n",
       "      <td>94.0</td>\n",
       "    </tr>\n",
       "    <tr>\n",
       "      <th>1</th>\n",
       "      <td>2845</td>\n",
       "      <td>Manhattan</td>\n",
       "      <td>40.75362</td>\n",
       "      <td>-73.98377</td>\n",
       "      <td>225</td>\n",
       "      <td>95.00</td>\n",
       "      <td>320.0</td>\n",
       "      <td>94.0</td>\n",
       "    </tr>\n",
       "    <tr>\n",
       "      <th>2</th>\n",
       "      <td>2845</td>\n",
       "      <td>Manhattan</td>\n",
       "      <td>40.75362</td>\n",
       "      <td>-73.98377</td>\n",
       "      <td>225</td>\n",
       "      <td>95.00</td>\n",
       "      <td>320.0</td>\n",
       "      <td>94.0</td>\n",
       "    </tr>\n",
       "    <tr>\n",
       "      <th>3</th>\n",
       "      <td>7322</td>\n",
       "      <td>Manhattan</td>\n",
       "      <td>40.74767</td>\n",
       "      <td>-73.97500</td>\n",
       "      <td>200</td>\n",
       "      <td>125.00</td>\n",
       "      <td>325.0</td>\n",
       "      <td>90.0</td>\n",
       "    </tr>\n",
       "    <tr>\n",
       "      <th>4</th>\n",
       "      <td>7322</td>\n",
       "      <td>Manhattan</td>\n",
       "      <td>40.74767</td>\n",
       "      <td>-73.97500</td>\n",
       "      <td>200</td>\n",
       "      <td>125.00</td>\n",
       "      <td>325.0</td>\n",
       "      <td>90.0</td>\n",
       "    </tr>\n",
       "  </tbody>\n",
       "</table>\n",
       "</div>"
      ],
      "text/plain": [
       "   Host ID    Borough  Latitude  Longitude  Price (per night) Cleaning Fee  \\\n",
       "0     2845  Manhattan  40.75362  -73.98377                225       95.00    \n",
       "1     2845  Manhattan  40.75362  -73.98377                225       95.00    \n",
       "2     2845  Manhattan  40.75362  -73.98377                225       95.00    \n",
       "3     7322  Manhattan  40.74767  -73.97500                200      125.00    \n",
       "4     7322  Manhattan  40.74767  -73.97500                200      125.00    \n",
       "\n",
       "   Total Price (per night)  Rating Score  \n",
       "0                    320.0          94.0  \n",
       "1                    320.0          94.0  \n",
       "2                    320.0          94.0  \n",
       "3                    325.0          90.0  \n",
       "4                    325.0          90.0  "
      ]
     },
     "execution_count": 35,
     "metadata": {},
     "output_type": "execute_result"
    }
   ],
   "source": [
    "clean_ny_airbb_data_df = pd.DataFrame(ny_airbb_data_df, columns = ['Host ID', 'Borough', 'Latitude', 'Longitude', 'Price (per night)', 'Cleaning Fee','Total Price (per night)', 'Rating Score'])\n",
    "clean_ny_airbb_data_df.head()"
   ]
  },
  {
   "cell_type": "code",
   "execution_count": 36,
   "metadata": {},
   "outputs": [
    {
     "data": {
      "text/html": [
       "<div>\n",
       "<style scoped>\n",
       "    .dataframe tbody tr th:only-of-type {\n",
       "        vertical-align: middle;\n",
       "    }\n",
       "\n",
       "    .dataframe tbody tr th {\n",
       "        vertical-align: top;\n",
       "    }\n",
       "\n",
       "    .dataframe thead th {\n",
       "        text-align: right;\n",
       "    }\n",
       "</style>\n",
       "<table border=\"1\" class=\"dataframe\">\n",
       "  <thead>\n",
       "    <tr style=\"text-align: right;\">\n",
       "      <th></th>\n",
       "      <th>Host ID</th>\n",
       "      <th>Borough</th>\n",
       "      <th>Latitude</th>\n",
       "      <th>Longitude</th>\n",
       "      <th>Price (per night)</th>\n",
       "      <th>Cleaning Fee</th>\n",
       "      <th>Total Price (per night)</th>\n",
       "      <th>Rating Score</th>\n",
       "    </tr>\n",
       "  </thead>\n",
       "  <tbody>\n",
       "    <tr>\n",
       "      <th>0</th>\n",
       "      <td>2845</td>\n",
       "      <td>Manhattan</td>\n",
       "      <td>40.75362</td>\n",
       "      <td>-73.98377</td>\n",
       "      <td>225</td>\n",
       "      <td>95.00</td>\n",
       "      <td>320.0</td>\n",
       "      <td>94.0</td>\n",
       "    </tr>\n",
       "    <tr>\n",
       "      <th>1</th>\n",
       "      <td>2845</td>\n",
       "      <td>Manhattan</td>\n",
       "      <td>40.75362</td>\n",
       "      <td>-73.98377</td>\n",
       "      <td>225</td>\n",
       "      <td>95.00</td>\n",
       "      <td>320.0</td>\n",
       "      <td>94.0</td>\n",
       "    </tr>\n",
       "    <tr>\n",
       "      <th>2</th>\n",
       "      <td>2845</td>\n",
       "      <td>Manhattan</td>\n",
       "      <td>40.75362</td>\n",
       "      <td>-73.98377</td>\n",
       "      <td>225</td>\n",
       "      <td>95.00</td>\n",
       "      <td>320.0</td>\n",
       "      <td>94.0</td>\n",
       "    </tr>\n",
       "    <tr>\n",
       "      <th>3</th>\n",
       "      <td>7322</td>\n",
       "      <td>Manhattan</td>\n",
       "      <td>40.74767</td>\n",
       "      <td>-73.97500</td>\n",
       "      <td>200</td>\n",
       "      <td>125.00</td>\n",
       "      <td>325.0</td>\n",
       "      <td>90.0</td>\n",
       "    </tr>\n",
       "    <tr>\n",
       "      <th>4</th>\n",
       "      <td>7322</td>\n",
       "      <td>Manhattan</td>\n",
       "      <td>40.74767</td>\n",
       "      <td>-73.97500</td>\n",
       "      <td>200</td>\n",
       "      <td>125.00</td>\n",
       "      <td>325.0</td>\n",
       "      <td>90.0</td>\n",
       "    </tr>\n",
       "  </tbody>\n",
       "</table>\n",
       "</div>"
      ],
      "text/plain": [
       "   Host ID    Borough  Latitude  Longitude  Price (per night) Cleaning Fee  \\\n",
       "0     2845  Manhattan  40.75362  -73.98377                225       95.00    \n",
       "1     2845  Manhattan  40.75362  -73.98377                225       95.00    \n",
       "2     2845  Manhattan  40.75362  -73.98377                225       95.00    \n",
       "3     7322  Manhattan  40.74767  -73.97500                200      125.00    \n",
       "4     7322  Manhattan  40.74767  -73.97500                200      125.00    \n",
       "\n",
       "   Total Price (per night)  Rating Score  \n",
       "0                    320.0          94.0  \n",
       "1                    320.0          94.0  \n",
       "2                    320.0          94.0  \n",
       "3                    325.0          90.0  \n",
       "4                    325.0          90.0  "
      ]
     },
     "execution_count": 36,
     "metadata": {},
     "output_type": "execute_result"
    }
   ],
   "source": [
    "options = ['Manhattan', 'Brooklyn', 'Bronx']\n",
    "  \n",
    "# selecting rows based on condition\n",
    "three_boroughs_df = clean_ny_airbb_data_df[clean_ny_airbb_data_df['Borough'].isin(options)]\n",
    "three_boroughs_df.head()"
   ]
  },
  {
   "cell_type": "code",
   "execution_count": 37,
   "metadata": {},
   "outputs": [],
   "source": [
    "# Average cost of all bnbs by borough\n"
   ]
  },
  {
   "cell_type": "code",
   "execution_count": 38,
   "metadata": {},
   "outputs": [
    {
     "data": {
      "image/png": "[encoded data removed]",
      "text/plain": [
       "<Figure size 720x360 with 1 Axes>"
      ]
     },
     "metadata": {
      "needs_background": "light"
     },
     "output_type": "display_data"
    }
   ],
   "source": [
    "gb_boroughs_df = three_boroughs_df.groupby([\"Borough\"]).mean()\n",
    "\n",
    "boroughs = ['Bronx', 'Brooklyn', 'Manhattan']\n",
    "\n",
    "values = gb_boroughs_df['Total Price (per night)'].to_numpy()\n",
    "\n",
    "\n",
    "fig = plt.figure(figsize = (10, 5))\n",
    " \n",
    "# creating the bar plot\n",
    "plt.bar(boroughs, values, color ='r',\n",
    "        width = 0.4)\n",
    "\n",
    "plt.xlabel(\"Boroughs\")\n",
    "plt.ylabel(\"Total Price\")\n",
    "plt.title(\"Average Cost of Air B&B\")\n",
    "plt.show()\n",
    "\n"
   ]
  },
  {
   "cell_type": "code",
   "execution_count": 39,
   "metadata": {},
   "outputs": [],
   "source": [
    "# Average rating of all bnbs by borough\n"
   ]
  },
  {
   "cell_type": "code",
   "execution_count": 40,
   "metadata": {},
   "outputs": [
    {
     "data": {
      "image/png": "[encoded data removed]",
      "text/plain": [
       "<Figure size 720x360 with 1 Axes>"
      ]
     },
     "metadata": {
      "needs_background": "light"
     },
     "output_type": "display_data"
    }
   ],
   "source": [
    "boroughs = ['Bronx', 'Brooklyn', 'Manhattan']\n",
    "\n",
    "values = gb_boroughs_df['Rating Score'].to_numpy()\n",
    "\n",
    "\n",
    "fig = plt.figure(figsize = (10, 5))\n",
    " \n",
    "# creating the bar plot\n",
    "plt.bar(boroughs, values, color ='r',\n",
    "        width = 0.4)\n",
    "\n",
    "plt.xlabel(\"Boroughs\")\n",
    "plt.ylabel(\"Rating Score\")\n",
    "plt.title(\"Average Rating Score of Air B&B\")\n",
    "plt.show()"
   ]
  },
  {
   "cell_type": "code",
   "execution_count": null,
   "metadata": {},
   "outputs": [],
   "source": []
  },
  {
   "cell_type": "code",
   "execution_count": 47,
   "metadata": {},
   "outputs": [],
   "source": [
    "# Heat map of highest rated bnb\n",
    "gmaps.configure(api_key = gkey)\n",
    "\n"
   ]
  },
  {
   "cell_type": "code",
   "execution_count": 48,
   "metadata": {},
   "outputs": [],
   "source": [
    "lat_lng = three_boroughs_df[[\"Latitude\", \"Longitude\"]].astype(float)\n",
    "\n",
    "rating = three_boroughs_df[\"Rating Score\"].astype(float)\n",
    "\n"
   ]
  },
  {
   "cell_type": "code",
   "execution_count": 53,
   "metadata": {},
   "outputs": [
    {
     "data": {
      "application/vnd.jupyter.widget-view+json": {
       "model_id": "6a145b8d162c4fdda31d0ca975faa073",
       "version_major": 2,
       "version_minor": 0
      },
      "text/plain": [
       "Figure(layout=FigureLayout(height='420px'))"
      ]
     },
     "metadata": {},
     "output_type": "display_data"
    }
   ],
   "source": [
    "fig = gmaps.figure(center=(46.0, -5.0), zoom_level=2)\n",
    "\n",
    "rating_layer = gmaps.heatmap_layer(lat_lng, weights = rating, \n",
    "                                     dissipating = True, max_intensity = 100,\n",
    "                                     point_radius = 3)\n",
    "fig.add_layer(rating_layer)\n",
    "\n",
    "fig\n"
   ]
  },
  {
   "cell_type": "code",
   "execution_count": null,
   "metadata": {},
   "outputs": [],
   "source": [
    "# Number of bnbs within a 10 mi radius of attraction by borough\n"
   ]
  },
  {
   "cell_type": "code",
   "execution_count": null,
   "metadata": {},
   "outputs": [],
   "source": []
  },
  {
   "cell_type": "code",
   "execution_count": null,
   "metadata": {},
   "outputs": [],
   "source": [
    "# Avg cost of bnbs within 10 mi radius of attraction by borough\n"
   ]
  },
  {
   "cell_type": "code",
   "execution_count": null,
   "metadata": {},
   "outputs": [],
   "source": []
  },
  {
   "cell_type": "code",
   "execution_count": null,
   "metadata": {},
   "outputs": [],
   "source": [
    "# Avg rating of bnbs within 10 mi radius of attraction by borough"
   ]
  },
  {
   "cell_type": "code",
   "execution_count": null,
   "metadata": {},
   "outputs": [],
   "source": []
  }
 ],
 "metadata": {
  "kernelspec": {
   "display_name": "Python [conda env:PythonData] *",
   "language": "python",
   "name": "conda-env-PythonData-py"
  },
  "language_info": {
   "codemirror_mode": {
    "name": "ipython",
    "version": 3
   },
   "file_extension": ".py",
   "mimetype": "text/x-python",
   "name": "python",
   "nbconvert_exporter": "python",
   "pygments_lexer": "ipython3",
   "version": "3.6.13"
  },
  "varInspector": {
   "cols": {
    "lenName": 16,
    "lenType": 16,
    "lenVar": 40
   },
   "kernels_config": {
    "python": {
     "delete_cmd_postfix": "",
     "delete_cmd_prefix": "del ",
     "library": "var_list.py",
     "varRefreshCmd": "print(var_dic_list())"
    },
    "r": {
     "delete_cmd_postfix": ") ",
     "delete_cmd_prefix": "rm(",
     "library": "var_list.r",
     "varRefreshCmd": "cat(var_dic_list()) "
    }
   },
   "types_to_exclude": [
    "module",
    "function",
    "builtin_function_or_method",
    "instance",
    "_Feature"
   ],
   "window_display": false
  }
 },
 "nbformat": 4,
 "nbformat_minor": 2
}
